{
  "nbformat": 4,
  "nbformat_minor": 0,
  "metadata": {
    "colab": {
      "name": "mcc pytorch.ipynb",
      "provenance": [],
      "collapsed_sections": [],
      "authorship_tag": "ABX9TyNE871kgGu9aYqoK7Nr6rYD"
    },
    "kernelspec": {
      "name": "python3",
      "display_name": "Python 3"
    },
    "accelerator": "GPU"
  },
  "cells": [
    {
      "cell_type": "code",
      "metadata": {
        "id": "kZStMfv3CdMF",
        "colab_type": "code",
        "colab": {}
      },
      "source": [
        "import torch\n",
        "import torch.nn as nn\n",
        "import torch.optim as optim\n",
        "from torch.optim import lr_scheduler\n",
        "from torch.autograd import Variable\n",
        "import numpy as np\n",
        "import torchvision\n",
        "from torchvision import datasets, models, transforms\n",
        "import matplotlib.pyplot as plt\n",
        "import time\n",
        "import os\n",
        "import copy\n",
        "from sklearn.metrics import confusion_matrix\n",
        "import itertools\n",
        "import sklearn "
      ],
      "execution_count": 1,
      "outputs": []
    },
    {
      "cell_type": "code",
      "metadata": {
        "id": "aPEDZ1DKDKHo",
        "colab_type": "code",
        "colab": {
          "base_uri": "https://localhost:8080/",
          "height": 129
        },
        "outputId": "38ed4764-f5f6-4754-c582-6c5c2ff38338"
      },
      "source": [
        "from google.colab import drive\n",
        "drive.mount('/content/drive')"
      ],
      "execution_count": 2,
      "outputs": [
        {
          "output_type": "stream",
          "text": [
            "Go to this URL in a browser: https://accounts.google.com/o/oauth2/auth?client_id=947318989803-6bn6qk8qdgf4n4g3pfee6491hc0brc4i.apps.googleusercontent.com&redirect_uri=urn%3aietf%3awg%3aoauth%3a2.0%3aoob&response_type=code&scope=email%20https%3a%2f%2fwww.googleapis.com%2fauth%2fdocs.test%20https%3a%2f%2fwww.googleapis.com%2fauth%2fdrive%20https%3a%2f%2fwww.googleapis.com%2fauth%2fdrive.photos.readonly%20https%3a%2f%2fwww.googleapis.com%2fauth%2fpeopleapi.readonly\n",
            "\n",
            "Enter your authorization code:\n",
            "··········\n",
            "Mounted at /content/drive\n"
          ],
          "name": "stdout"
        }
      ]
    },
    {
      "cell_type": "code",
      "metadata": {
        "id": "QC6evX1lC5WH",
        "colab_type": "code",
        "colab": {}
      },
      "source": [
        "data_dir = '/content/drive/My Drive/Malaria Cells Dataset'"
      ],
      "execution_count": 3,
      "outputs": []
    },
    {
      "cell_type": "code",
      "metadata": {
        "id": "StdBmXVLC0T5",
        "colab_type": "code",
        "colab": {}
      },
      "source": [
        "#Define transforms for the training data and testing data\n",
        "train_transforms = transforms.Compose([#transforms.RandomRotation(30),\n",
        "                                       #transforms.RandomResizedCrop(224),\n",
        "                                       #transforms.RandomHorizontalFlip(),\n",
        "                                       transforms.Resize(256),\n",
        "                                       transforms.CenterCrop(224),\n",
        "                                       transforms.ToTensor(),\n",
        "                                       transforms.Normalize([0.485, 0.456, 0.406],\n",
        "                                                            [0.229, 0.224, 0.225])])\n",
        "\n",
        "valid_transforms = transforms.Compose([transforms.RandomRotation(30),\n",
        "                                       transforms.RandomResizedCrop(224),\n",
        "                                       transforms.RandomHorizontalFlip(),\n",
        "                                       transforms.ToTensor(),\n",
        "                                       transforms.Normalize([0.485, 0.456, 0.406],\n",
        "                                                            [0.229, 0.224, 0.225])])\n",
        "\n",
        "test_transforms = transforms.Compose([transforms.Resize(256),\n",
        "                                      transforms.CenterCrop(224),\n",
        "                                      transforms.ToTensor(),\n",
        "                                      transforms.Normalize([0.485, 0.456, 0.406],\n",
        "                                                           [0.229, 0.224, 0.225])])"
      ],
      "execution_count": 119,
      "outputs": []
    },
    {
      "cell_type": "code",
      "metadata": {
        "id": "lgt4Pu4qDqBB",
        "colab_type": "code",
        "colab": {
          "base_uri": "https://localhost:8080/",
          "height": 54
        },
        "outputId": "adce5c71-5f2a-40e1-91c1-46ff36b2db66"
      },
      "source": [
        "#pass transform here-in\n",
        "train_data = datasets.ImageFolder(data_dir + '/train', transform=train_transforms)\n",
        "test_data = datasets.ImageFolder(data_dir + '/test', transform=train_transforms)\n",
        "validation_data = datasets.ImageFolder(data_dir + '/val', transform=valid_transforms)\n",
        "\n",
        "trainloader = torch.utils.data.DataLoader(train_data, batch_size=64, shuffle=True, num_workers=8, pin_memory=True)\n",
        "testloader = torch.utils.data.DataLoader(test_data, batch_size=16, shuffle=True, num_workers=4)\n",
        "validloader = torch.utils.data.DataLoader(validation_data, batch_size=16, shuffle = True, num_workers=4)\n",
        "\n",
        "print(\"Classes: \")\n",
        "class_names = train_data.classes\n",
        "print(class_names)"
      ],
      "execution_count": 122,
      "outputs": [
        {
          "output_type": "stream",
          "text": [
            "Classes: \n",
            "['gametocyte', 'leukocyte', 'ring', 'schizont', 'trophozoite']\n"
          ],
          "name": "stdout"
        }
      ]
    },
    {
      "cell_type": "code",
      "metadata": {
        "id": "L_THtWaWEDpc",
        "colab_type": "code",
        "colab": {
          "base_uri": "https://localhost:8080/",
          "height": 72
        },
        "outputId": "fe9cc07f-49be-4b30-fd77-b4478b3cbcfa"
      },
      "source": [
        "print(len(train_data))\n",
        "print(len(validation_data))\n",
        "print(len(test_data))"
      ],
      "execution_count": 123,
      "outputs": [
        {
          "output_type": "stream",
          "text": [
            "2702\n",
            "330\n",
            "340\n"
          ],
          "name": "stdout"
        }
      ]
    },
    {
      "cell_type": "code",
      "metadata": {
        "id": "gL4fDltYELJ2",
        "colab_type": "code",
        "colab": {
          "base_uri": "https://localhost:8080/",
          "height": 149
        },
        "outputId": "faf0538f-d75a-41d0-90a0-139548574aed"
      },
      "source": [
        "def imshow(inp, title=None):\n",
        "    inp = inp.numpy().transpose((1, 2, 0))\n",
        "    plt.axis('off')\n",
        "    plt.imshow(inp)\n",
        "    if title is not None:\n",
        "        plt.title(title)\n",
        "\n",
        "def show_databatch(inputs, classes):\n",
        "    out = torchvision.utils.make_grid(inputs)\n",
        "    imshow(out, title=[class_names[x] for x in classes])\n",
        "\n",
        "inputs, classes = next(iter(validloader))\n",
        "show_databatch(inputs, classes)"
      ],
      "execution_count": 7,
      "outputs": [
        {
          "output_type": "stream",
          "text": [
            "Clipping input data to the valid range for imshow with RGB data ([0..1] for floats or [0..255] for integers).\n"
          ],
          "name": "stderr"
        },
        {
          "output_type": "display_data",
          "data": {
            "image/png": "[encoded data removed]",
            "text/plain": [
              "<Figure size 432x288 with 1 Axes>"
            ]
          },
          "metadata": {
            "tags": [],
            "needs_background": "light"
          }
        }
      ]
    },
    {
      "cell_type": "code",
      "metadata": {
        "id": "TwFsHCP8ETSr",
        "colab_type": "code",
        "colab": {
          "base_uri": "https://localhost:8080/",
          "height": 513
        },
        "outputId": "4019ada8-dc1d-43c7-9667-8338da1f6ded"
      },
      "source": [
        "# Load VGG 16\n",
        "alexnet = models.AlexNet(num_classes=len(class_names))\n",
        "print(alexnet)"
      ],
      "execution_count": 124,
      "outputs": [
        {
          "output_type": "stream",
          "text": [
            "AlexNet(\n",
            "  (features): Sequential(\n",
            "    (0): Conv2d(3, 64, kernel_size=(11, 11), stride=(4, 4), padding=(2, 2))\n",
            "    (1): ReLU(inplace=True)\n",
            "    (2): MaxPool2d(kernel_size=3, stride=2, padding=0, dilation=1, ceil_mode=False)\n",
            "    (3): Conv2d(64, 192, kernel_size=(5, 5), stride=(1, 1), padding=(2, 2))\n",
            "    (4): ReLU(inplace=True)\n",
            "    (5): MaxPool2d(kernel_size=3, stride=2, padding=0, dilation=1, ceil_mode=False)\n",
            "    (6): Conv2d(192, 384, kernel_size=(3, 3), stride=(1, 1), padding=(1, 1))\n",
            "    (7): ReLU(inplace=True)\n",
            "    (8): Conv2d(384, 256, kernel_size=(3, 3), stride=(1, 1), padding=(1, 1))\n",
            "    (9): ReLU(inplace=True)\n",
            "    (10): Conv2d(256, 256, kernel_size=(3, 3), stride=(1, 1), padding=(1, 1))\n",
            "    (11): ReLU(inplace=True)\n",
            "    (12): MaxPool2d(kernel_size=3, stride=2, padding=0, dilation=1, ceil_mode=False)\n",
            "  )\n",
            "  (avgpool): AdaptiveAvgPool2d(output_size=(6, 6))\n",
            "  (classifier): Sequential(\n",
            "    (0): Dropout(p=0.5, inplace=False)\n",
            "    (1): Linear(in_features=9216, out_features=4096, bias=True)\n",
            "    (2): ReLU(inplace=True)\n",
            "    (3): Dropout(p=0.5, inplace=False)\n",
            "    (4): Linear(in_features=4096, out_features=4096, bias=True)\n",
            "    (5): ReLU(inplace=True)\n",
            "    (6): Linear(in_features=4096, out_features=5, bias=True)\n",
            "  )\n",
            ")\n"
          ],
          "name": "stdout"
        }
      ]
    },
    {
      "cell_type": "code",
      "metadata": {
        "id": "lCx5TnaWXstc",
        "colab_type": "code",
        "colab": {}
      },
      "source": [
        "Epochs = 20\n",
        "criterion = nn.CrossEntropyLoss()\n",
        "optimizer = optim.SGD(alexnet.parameters(), lr=0.001, momentum=0.9)"
      ],
      "execution_count": 146,
      "outputs": []
    },
    {
      "cell_type": "code",
      "metadata": {
        "id": "u1K8fqWZX1Ko",
        "colab_type": "code",
        "colab": {}
      },
      "source": [
        "device = torch.device(\"cuda:0\" if torch.cuda.is_available() else \"cpu\")"
      ],
      "execution_count": 11,
      "outputs": []
    },
    {
      "cell_type": "code",
      "metadata": {
        "id": "GxRcK8pnYRG0",
        "colab_type": "code",
        "colab": {
          "base_uri": "https://localhost:8080/",
          "height": 458
        },
        "outputId": "b468caa4-96a8-427b-b2e7-91dd858db9fa"
      },
      "source": [
        "#losses = []\n",
        "#acc = []\n",
        "correct = 0\n",
        "n = len(train_data)\n",
        "\n",
        "from tqdm import tqdm\n",
        "\n",
        "device = torch.device(\"cuda:0\" if torch.cuda.is_available() else \"cpu\")\n",
        "alexnet.to(device)\n",
        "\n",
        "for epoch in range(Epochs):  # loop over the dataset multiple times\n",
        "\n",
        "    running_loss = 0.0\n",
        "    pbar = tqdm(enumerate(trainloader))\n",
        "    for i, data in pbar:\n",
        "        \n",
        "        inputs, labels = data\n",
        "        inputs, labels = inputs.to(device), labels.to(device)\n",
        "\n",
        "        optimizer.zero_grad()\n",
        "    \n",
        "        outputs = alexnet(inputs)               \n",
        "        loss = criterion(outputs, labels)   \n",
        "        loss.backward()                     \n",
        "        optimizer.step()                    \n",
        "\n",
        "      \n",
        "        running_loss += loss.item()\n",
        "\n",
        "        _, predicted = torch.max(outputs.data, 1)\n",
        "        correct += (predicted == labels).float().sum().item()\n",
        "\n",
        "        pbar.set_description(\n",
        "            'Train Epoch: {} [{}/{} ({:.0f}%)]\\tLoss: {:.6f}'.format(\n",
        "                epoch, i * len(inputs), len(trainloader.dataset),\n",
        "                100. * i / len(trainloader),\n",
        "                loss.data))\n",
        "\n",
        "    acc.append(100 * correct / n) \n",
        "    losses.append(running_loss/len(trainloader))\n",
        "    correct = 0\n",
        "    torch.save(alexnet.state_dict(), '/content/drive/My Drive/Colab Notebooks/mcc_alexnet.pth')\n",
        "\n",
        "print('Finished Training')"
      ],
      "execution_count": 147,
      "outputs": [
        {
          "output_type": "stream",
          "text": [
            "\n",
            "0it [00:00, ?it/s]\u001b[A\n",
            "Train Epoch: 0 [64/2702 (2%)]\tLoss: 0.661105: : 2it [00:09,  4.90s/it]\n",
            "Train Epoch: 0 [588/2702 (98%)]\tLoss: 0.510882: : 43it [00:12,  3.52it/s]\n",
            "Train Epoch: 1 [588/2702 (98%)]\tLoss: 0.569299: : 43it [00:12,  3.38it/s]\n",
            "Train Epoch: 2 [588/2702 (98%)]\tLoss: 0.666936: : 43it [00:12,  3.40it/s]\n",
            "Train Epoch: 3 [588/2702 (98%)]\tLoss: 1.170225: : 43it [00:13,  3.27it/s]\n",
            "Train Epoch: 4 [588/2702 (98%)]\tLoss: 0.335611: : 43it [00:12,  3.31it/s]\n",
            "Train Epoch: 5 [588/2702 (98%)]\tLoss: 0.307702: : 43it [00:12,  3.38it/s]\n",
            "Train Epoch: 6 [588/2702 (98%)]\tLoss: 0.702220: : 43it [00:12,  3.43it/s]\n",
            "Train Epoch: 7 [588/2702 (98%)]\tLoss: 0.482889: : 43it [00:12,  3.33it/s]\n",
            "Train Epoch: 8 [588/2702 (98%)]\tLoss: 0.795872: : 43it [00:12,  3.36it/s]\n",
            "Train Epoch: 9 [588/2702 (98%)]\tLoss: 0.839879: : 43it [00:12,  3.41it/s]\n",
            "Train Epoch: 10 [588/2702 (98%)]\tLoss: 0.801360: : 43it [00:13,  3.29it/s]\n",
            "Train Epoch: 11 [588/2702 (98%)]\tLoss: 0.834366: : 43it [00:12,  3.35it/s]\n",
            "Train Epoch: 12 [588/2702 (98%)]\tLoss: 0.972496: : 43it [00:12,  3.33it/s]\n",
            "Train Epoch: 13 [588/2702 (98%)]\tLoss: 0.853834: : 43it [00:13,  3.30it/s]\n",
            "Train Epoch: 14 [588/2702 (98%)]\tLoss: 1.074266: : 43it [00:12,  3.40it/s]\n",
            "Train Epoch: 15 [588/2702 (98%)]\tLoss: 0.376233: : 43it [00:12,  3.32it/s]\n",
            "Train Epoch: 16 [588/2702 (98%)]\tLoss: 0.607579: : 43it [00:12,  3.33it/s]\n",
            "Train Epoch: 17 [588/2702 (98%)]\tLoss: 0.764731: : 43it [00:12,  3.38it/s]\n",
            "Train Epoch: 18 [588/2702 (98%)]\tLoss: 0.326954: : 43it [00:12,  3.41it/s]\n",
            "Train Epoch: 19 [588/2702 (98%)]\tLoss: 0.692046: : 43it [00:12,  3.40it/s]\n"
          ],
          "name": "stderr"
        },
        {
          "output_type": "stream",
          "text": [
            "Finished Training\n"
          ],
          "name": "stdout"
        }
      ]
    },
    {
      "cell_type": "code",
      "metadata": {
        "id": "6ur5Qkufb_3D",
        "colab_type": "code",
        "colab": {
          "base_uri": "https://localhost:8080/",
          "height": 313
        },
        "outputId": "c0f31989-c2d2-4937-bd80-684c58e8377e"
      },
      "source": [
        "plt.title(\"Accuracy\")\n",
        "plt.xlabel(\"Epochs\")\n",
        "plt.ylabel(\"Accuracy\")\n",
        "plt.plot(acc)"
      ],
      "execution_count": 148,
      "outputs": [
        {
          "output_type": "execute_result",
          "data": {
            "text/plain": [
              "[<matplotlib.lines.Line2D at 0x7f9fcf26f588>]"
            ]
          },
          "metadata": {
            "tags": []
          },
          "execution_count": 148
        },
        {
          "output_type": "display_data",
          "data": {
            "image/png": "[encoded data removed]",
            "text/plain": [
              "<Figure size 432x288 with 1 Axes>"
            ]
          },
          "metadata": {
            "tags": [],
            "needs_background": "light"
          }
        }
      ]
    },
    {
      "cell_type": "code",
      "metadata": {
        "id": "rTSgX7eEb6dy",
        "colab_type": "code",
        "colab": {
          "base_uri": "https://localhost:8080/",
          "height": 313
        },
        "outputId": "5ce38dca-e200-40b7-c8c6-3b1ed7f6094c"
      },
      "source": [
        "plt.title(\"Loss Curve\")\n",
        "plt.xlabel(\"Epochs\")\n",
        "plt.ylabel(\"Loss\")\n",
        "plt.plot(losses)"
      ],
      "execution_count": 149,
      "outputs": [
        {
          "output_type": "execute_result",
          "data": {
            "text/plain": [
              "[<matplotlib.lines.Line2D at 0x7f9fcf211e48>]"
            ]
          },
          "metadata": {
            "tags": []
          },
          "execution_count": 149
        },
        {
          "output_type": "display_data",
          "data": {
            "image/png": "[encoded data removed]",
            "text/plain": [
              "<Figure size 432x288 with 1 Axes>"
            ]
          },
          "metadata": {
            "tags": [],
            "needs_background": "light"
          }
        }
      ]
    },
    {
      "cell_type": "code",
      "metadata": {
        "id": "M0O-mHeZd6l0",
        "colab_type": "code",
        "colab": {}
      },
      "source": [
        "def Accuracy(network ,dataset):\n",
        "  correct = 0\n",
        "  total = 0\n",
        "  inx = 0 \n",
        "  \n",
        "  with torch.no_grad():\n",
        "    for data in dataset:\n",
        "\n",
        "        images, labels = data\n",
        "        images, labels = images.to(device), labels.to(device)\n",
        "        outputs = network(images)\n",
        "        _, predicted = torch.max(outputs.data, 1)\n",
        "\n",
        "        inx += 1\n",
        "        print(\"\\r Iterating on image batches : \",inx,end=\"\")\n",
        "        total += labels.size(0)\n",
        "        correct += (predicted == labels).sum().item()\n",
        "        \n",
        "  return (100*correct/total)"
      ],
      "execution_count": 16,
      "outputs": []
    },
    {
      "cell_type": "code",
      "metadata": {
        "id": "rzBBGeDmeVhk",
        "colab_type": "code",
        "colab": {
          "base_uri": "https://localhost:8080/",
          "height": 54
        },
        "outputId": "37bc2e5e-3b18-4e97-acf0-7cce27f74760"
      },
      "source": [
        "acc_ = Accuracy(alexnet,trainloader)\n",
        "print(\"\\nTraining Accuracy %d %%\" % acc_)"
      ],
      "execution_count": 150,
      "outputs": [
        {
          "output_type": "stream",
          "text": [
            " Iterating on image batches :  43\n",
            "Training Accuracy 79 %\n"
          ],
          "name": "stdout"
        }
      ]
    },
    {
      "cell_type": "code",
      "metadata": {
        "id": "Fy7sg4dpeNiS",
        "colab_type": "code",
        "colab": {
          "base_uri": "https://localhost:8080/",
          "height": 54
        },
        "outputId": "34115aef-1158-47d8-f94c-48e24aa5942a"
      },
      "source": [
        "acc_ = Accuracy(alexnet,testloader)\n",
        "print(\"\\nTesting Accuracy %d %%\" % acc_)"
      ],
      "execution_count": 156,
      "outputs": [
        {
          "output_type": "stream",
          "text": [
            " Iterating on image batches :  22\n",
            "Testing Accuracy 74 %\n"
          ],
          "name": "stdout"
        }
      ]
    },
    {
      "cell_type": "code",
      "metadata": {
        "id": "01YlYvWxei5c",
        "colab_type": "code",
        "colab": {
          "base_uri": "https://localhost:8080/",
          "height": 54
        },
        "outputId": "a27f72bc-6f9e-4d06-8ef4-a22c1047525c"
      },
      "source": [
        "acc_ = Accuracy(alexnet,validloader)\n",
        "print(\"\\nValidation Accuracy %d %%\" % acc_)"
      ],
      "execution_count": 152,
      "outputs": [
        {
          "output_type": "stream",
          "text": [
            " Iterating on image batches :  21\n",
            "Validation Accuracy 71 %\n"
          ],
          "name": "stdout"
        }
      ]
    },
    {
      "cell_type": "code",
      "metadata": {
        "id": "O04vjuTacL3d",
        "colab_type": "code",
        "colab": {}
      },
      "source": [
        "def ClassWise_Accuracy(network, dataset, class_labels):\n",
        "  inx = 0 \n",
        "  class_correct = list(0. for i in range(len(class_labels)))\n",
        "  class_total = list(0. for i in range(len(class_labels)))\n",
        "  \n",
        "  with torch.no_grad():\n",
        "    for data in dataset:\n",
        "        images, lbl = data\n",
        "\n",
        "        images, labels = images.to(device), lbl.to(device)\n",
        "        outputs = network(images)\n",
        "        \n",
        "        _, predicted = torch.max(outputs.data, 1)\n",
        "        \n",
        "        for j in range(0,labels.size(0)):\n",
        "          if (predicted[j]==lbl[j]):\n",
        "\n",
        "            if (predicted[j] == 0): class_correct[0]+=1\n",
        "            if (predicted[j] == 1): class_correct[1]+=1\n",
        "            if (predicted[j] == 2): class_correct[2]+=1\n",
        "            if (predicted[j] == 3): class_correct[3]+=1\n",
        "            if (predicted[j] == 4): class_correct[4]+=1\n",
        "              \n",
        "          \n",
        "          if (lbl[j] == 0): class_total[0]+=1\n",
        "          if (lbl[j] == 1): class_total[1]+=1\n",
        "          if (lbl[j] == 2): class_total[2]+=1\n",
        "          if (lbl[j] == 3): class_total[3]+=1\n",
        "          if (lbl[j] == 4): class_total[4]+=1\n",
        "\n",
        "        inx += 1\n",
        "        print(\"\\r: \",inx,end=\"\")\n",
        "  print(\"\\n\")\n",
        "  for i in range(len(class_labels)):\n",
        "    print('Accuracy of %5s : %2d %%' % (class_labels[i], 100 * class_correct[i] / class_total[i]))\n",
        "    print(class_labels[i],': ',class_correct[i],'/',class_total[i])"
      ],
      "execution_count": 94,
      "outputs": []
    },
    {
      "cell_type": "code",
      "metadata": {
        "id": "J-LvVuRumtDB",
        "colab_type": "code",
        "colab": {
          "base_uri": "https://localhost:8080/",
          "height": 237
        },
        "outputId": "e4195104-056f-4b4b-c973-04eb0cee0065"
      },
      "source": [
        "ClassWise_Accuracy(alexnet,trainloader,class_names)"
      ],
      "execution_count": 153,
      "outputs": [
        {
          "output_type": "stream",
          "text": [
            ":  43\n",
            "\n",
            "Accuracy of gametocyte : 44 %\n",
            "gametocyte :  118.0 / 268.0\n",
            "Accuracy of leukocyte : 97 %\n",
            "leukocyte :  200.0 / 206.0\n",
            "Accuracy of  ring : 81 %\n",
            "ring :  450.0 / 552.0\n",
            "Accuracy of schizont : 68 %\n",
            "schizont :  218.0 / 320.0\n",
            "Accuracy of trophozoite : 85 %\n",
            "trophozoite :  1160.0 / 1356.0\n"
          ],
          "name": "stdout"
        }
      ]
    },
    {
      "cell_type": "code",
      "metadata": {
        "id": "jzYEM2ddnnyO",
        "colab_type": "code",
        "colab": {
          "base_uri": "https://localhost:8080/",
          "height": 237
        },
        "outputId": "d2a2cf85-a829-4516-c5f2-030815a28c44"
      },
      "source": [
        "ClassWise_Accuracy(alexnet,validloader,class_names)"
      ],
      "execution_count": 154,
      "outputs": [
        {
          "output_type": "stream",
          "text": [
            ":  21\n",
            "\n",
            "Accuracy of gametocyte : 21 %\n",
            "gametocyte :  7.0 / 32.0\n",
            "Accuracy of leukocyte : 95 %\n",
            "leukocyte :  19.0 / 20.0\n",
            "Accuracy of  ring : 71 %\n",
            "ring :  49.0 / 69.0\n",
            "Accuracy of schizont : 52 %\n",
            "schizont :  21.0 / 40.0\n",
            "Accuracy of trophozoite : 83 %\n",
            "trophozoite :  141.0 / 169.0\n"
          ],
          "name": "stdout"
        }
      ]
    },
    {
      "cell_type": "code",
      "metadata": {
        "id": "jDRrWYo02Hav",
        "colab_type": "code",
        "colab": {
          "base_uri": "https://localhost:8080/",
          "height": 237
        },
        "outputId": "2fea53b5-f866-4de4-cdf4-411caabe3f45"
      },
      "source": [
        "ClassWise_Accuracy(alexnet,testloader,class_names)"
      ],
      "execution_count": 155,
      "outputs": [
        {
          "output_type": "stream",
          "text": [
            ":  22\n",
            "\n",
            "Accuracy of gametocyte : 41 %\n",
            "gametocyte :  15.0 / 36.0\n",
            "Accuracy of leukocyte : 100 %\n",
            "leukocyte :  22.0 / 22.0\n",
            "Accuracy of  ring : 68 %\n",
            "ring :  48.0 / 70.0\n",
            "Accuracy of schizont : 54 %\n",
            "schizont :  23.0 / 42.0\n",
            "Accuracy of trophozoite : 81 %\n",
            "trophozoite :  138.0 / 170.0\n"
          ],
          "name": "stdout"
        }
      ]
    },
    {
      "cell_type": "code",
      "metadata": {
        "id": "bO6rQfmRw3lG",
        "colab_type": "code",
        "colab": {}
      },
      "source": [
        "#! python /content/flip_images.py"
      ],
      "execution_count": null,
      "outputs": []
    }
  ]
}